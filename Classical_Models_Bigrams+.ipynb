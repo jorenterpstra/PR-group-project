{
 "cells": [
  {
   "cell_type": "code",
   "execution_count": null,
   "id": "d5870bac",
   "metadata": {},
   "outputs": [],
   "source": [
    "import pandas as pd\n",
    "import numpy as np\n",
    "from sklearn.feature_extraction.text import CountVectorizer\n",
    "from sklearn.model_selection import train_test_split\n",
    "from sklearn.metrics import accuracy_score\n",
    "from sklearn.ensemble import RandomForestClassifier\n",
    "from sklearn.naive_bayes import MultinomialNB\n",
    "from sklearn.svm import SVC\n",
    "\n",
    "# Instantiate the 1,2-gram vectorizer\n",
    "vectorizer = CountVectorizer(ngram_range=(1,2))\n",
    "\n",
    "# Extract 1,2-gram feature from the song texts\n",
    "X = vectorizer.fit_transform(df['text'])\n",
    "\n",
    "# Divide the dataset into train and test set\n",
    "X_train, X_test, y_train, y_test = train_test_split(X, df['artist'], test_size=0.2)"
   ]
  },
  {
   "cell_type": "code",
   "execution_count": null,
   "id": "4ce6fb1f",
   "metadata": {},
   "outputs": [],
   "source": [
    "# Train the Random Forest Model\n",
    "model = RandomForestClassifier(random_state=0, n_jobs=-1)\n",
    "model.fit(X_train, y_train)\n",
    "\n",
    "# Make predictions on the test data\n",
    "y_pred_rf = model.predict(X_test)\n",
    "\n",
    "# Calculate accuracy\n",
    "accuracy_rf = accuracy_score(y_test, y_pred_rf )"
   ]
  },
  {
   "cell_type": "code",
   "execution_count": null,
   "id": "55c7daac",
   "metadata": {},
   "outputs": [],
   "source": [
    "# Train the Multinomial NB model\n",
    "model = MultinomialNB()\n",
    "model.fit(X_train, y_train)\n",
    "\n",
    "# Make predictions on the test data\n",
    "y_pred_nb = model.predict(X_test)\n",
    "\n",
    "# Calculate accuracy\n",
    "accuracy_nb = accuracy_score(y_test, y_pred_nb)"
   ]
  },
  {
   "cell_type": "code",
   "execution_count": null,
   "id": "2b32c8c3",
   "metadata": {},
   "outputs": [],
   "source": [
    "# Train the SVM model\n",
    "model = SVC()\n",
    "model.fit(X_train, y_train)\n",
    "\n",
    "# Make predictions on the test data\n",
    "y_pred_svm = model.predict(X_test) #0.07377675840978594\n",
    "\n",
    "# Calculate accuracy\n",
    "accuracy_svm = accuracy_score(y_test, y_pred_svm)"
   ]
  },
  {
   "cell_type": "code",
   "execution_count": null,
   "id": "2a3f576d",
   "metadata": {},
   "outputs": [],
   "source": [
    "# McNemar test to compare the results of RF and MNB\n",
    "\n",
    "CC = 0\n",
    "CF = 0\n",
    "FC = 0\n",
    "FF = 0\n",
    "\n",
    "for i, label in enumerate(y_test):\n",
    "    # print(prediction1[i], prediction2[i], y_test[i])\n",
    "    if ((y_pred_rf[i] == y_pred_nb[i]) and (y_pred_rf[i] == y_test.iloc[i])):\n",
    "        CC += 1\n",
    "    elif ((y_pred_rf[i] != y_pred_nb[i]) and (y_pred_rf[i] == y_test.iloc[i])):\n",
    "        CF += 1\n",
    "    elif ((y_pred_rf[i] != y_pred_nb[i]) and (y_pred_nb[i] == y_test.iloc[i])):\n",
    "        FC += 1\n",
    "    else:\n",
    "        FF +=1\n",
    "print(CC, CF, FC, FF)\n",
    "\n",
    "mcNemar_rf_nb = ((CF - FC)*(CF - FC))/(CF + FC)"
   ]
  },
  {
   "cell_type": "code",
   "execution_count": null,
   "id": "fb8750f5",
   "metadata": {},
   "outputs": [],
   "source": [
    "# McNemar test to compare the results of RF and SVM\n",
    "CC = 0\n",
    "CF = 0\n",
    "FC = 0\n",
    "FF = 0\n",
    "\n",
    "for i, label in enumerate(y_test):\n",
    "    # print(prediction1[i], prediction2[i], y_test[i])\n",
    "    if ((y_pred_rf[i] == y_pred_svm[i]) and (y_pred_rf[i] == y_test.iloc[i])):\n",
    "        CC += 1\n",
    "    elif ((y_pred_rf[i] != y_pred_svm[i]) and (y_pred_rf[i] == y_test.iloc[i])):\n",
    "        CF += 1\n",
    "    elif ((y_pred_rf[i] != y_pred_svm[i]) and (y_pred_svm[i] == y_test.iloc[i])):\n",
    "        FC += 1\n",
    "    else:\n",
    "        FF +=1\n",
    "print(CC, CF, FC, FF)\n",
    "\n",
    "mcNemar_rf_svm = ((CF - FC)*(CF - FC))/(CF + FC)"
   ]
  },
  {
   "cell_type": "code",
   "execution_count": null,
   "id": "a961fd84",
   "metadata": {},
   "outputs": [],
   "source": [
    "# McNemar test to compare the results of MNB and SVM\n",
    "CC = 0\n",
    "CF = 0\n",
    "FC = 0\n",
    "FF = 0\n",
    "\n",
    "for i, label in enumerate(y_test):\n",
    "    # print(prediction1[i], prediction2[i], y_test[i])\n",
    "    if ((y_pred_nb[i] == y_pred_svm[i]) and (y_pred_nb[i] == y_test.iloc[i])):\n",
    "        CC += 1\n",
    "    elif ((y_pred_nb[i] != y_pred_svm[i]) and (y_pred_nb[i] == y_test.iloc[i])):\n",
    "        CF += 1\n",
    "    elif ((y_pred_nb[i] != y_pred_svm[i]) and (y_pred_svm[i] == y_test.iloc[i])):\n",
    "        FC += 1\n",
    "    else:\n",
    "        FF +=1\n",
    "print(CC, CF, FC, FF)\n",
    "\n",
    "mcNemar_nb_svm = ((CF - FC)*(CF - FC))/(CF + FC)"
   ]
  }
 ],
 "metadata": {
  "kernelspec": {
   "display_name": "Python 3 (ipykernel)",
   "language": "python",
   "name": "python3"
  },
  "language_info": {
   "codemirror_mode": {
    "name": "ipython",
    "version": 3
   },
   "file_extension": ".py",
   "mimetype": "text/x-python",
   "name": "python",
   "nbconvert_exporter": "python",
   "pygments_lexer": "ipython3",
   "version": "3.9.13"
  }
 },
 "nbformat": 4,
 "nbformat_minor": 5
}
